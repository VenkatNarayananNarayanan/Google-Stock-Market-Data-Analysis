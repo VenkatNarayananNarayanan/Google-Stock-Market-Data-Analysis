{
 "cells": [
  {
   "cell_type": "code",
   "execution_count": 1,
   "id": "e47c86e8",
   "metadata": {},
   "outputs": [],
   "source": [
    "import pandas as pd\n",
    "import matplotlib.pyplot as plt"
   ]
  },
  {
   "cell_type": "code",
   "execution_count": 2,
   "id": "9546c151",
   "metadata": {},
   "outputs": [],
   "source": [
    "df = pd.read_csv(\"Google Stock Market Data [20 years].csv\")"
   ]
  },
  {
   "cell_type": "code",
   "execution_count": 3,
   "id": "c00b190c",
   "metadata": {},
   "outputs": [
    {
     "data": {
      "text/html": [
       "<div>\n",
       "<style scoped>\n",
       "    .dataframe tbody tr th:only-of-type {\n",
       "        vertical-align: middle;\n",
       "    }\n",
       "\n",
       "    .dataframe tbody tr th {\n",
       "        vertical-align: top;\n",
       "    }\n",
       "\n",
       "    .dataframe thead th {\n",
       "        text-align: right;\n",
       "    }\n",
       "</style>\n",
       "<table border=\"1\" class=\"dataframe\">\n",
       "  <thead>\n",
       "    <tr style=\"text-align: right;\">\n",
       "      <th></th>\n",
       "      <th>Date</th>\n",
       "      <th>Open</th>\n",
       "      <th>High</th>\n",
       "      <th>Low</th>\n",
       "      <th>Close</th>\n",
       "      <th>Adj Close</th>\n",
       "      <th>Volume</th>\n",
       "    </tr>\n",
       "  </thead>\n",
       "  <tbody>\n",
       "    <tr>\n",
       "      <th>0</th>\n",
       "      <td>2004-08-19</td>\n",
       "      <td>2.490664</td>\n",
       "      <td>2.591785</td>\n",
       "      <td>2.390042</td>\n",
       "      <td>2.499133</td>\n",
       "      <td>2.499133</td>\n",
       "      <td>897427216</td>\n",
       "    </tr>\n",
       "    <tr>\n",
       "      <th>1</th>\n",
       "      <td>2004-08-20</td>\n",
       "      <td>2.515820</td>\n",
       "      <td>2.716817</td>\n",
       "      <td>2.503118</td>\n",
       "      <td>2.697639</td>\n",
       "      <td>2.697639</td>\n",
       "      <td>458857488</td>\n",
       "    </tr>\n",
       "    <tr>\n",
       "      <th>2</th>\n",
       "      <td>2004-08-23</td>\n",
       "      <td>2.758411</td>\n",
       "      <td>2.826406</td>\n",
       "      <td>2.716070</td>\n",
       "      <td>2.724787</td>\n",
       "      <td>2.724787</td>\n",
       "      <td>366857939</td>\n",
       "    </tr>\n",
       "    <tr>\n",
       "      <th>3</th>\n",
       "      <td>2004-08-24</td>\n",
       "      <td>2.770615</td>\n",
       "      <td>2.779581</td>\n",
       "      <td>2.579581</td>\n",
       "      <td>2.611960</td>\n",
       "      <td>2.611960</td>\n",
       "      <td>306396159</td>\n",
       "    </tr>\n",
       "    <tr>\n",
       "      <th>4</th>\n",
       "      <td>2004-08-25</td>\n",
       "      <td>2.614201</td>\n",
       "      <td>2.689918</td>\n",
       "      <td>2.587302</td>\n",
       "      <td>2.640104</td>\n",
       "      <td>2.640104</td>\n",
       "      <td>184645512</td>\n",
       "    </tr>\n",
       "    <tr>\n",
       "      <th>...</th>\n",
       "      <td>...</td>\n",
       "      <td>...</td>\n",
       "      <td>...</td>\n",
       "      <td>...</td>\n",
       "      <td>...</td>\n",
       "      <td>...</td>\n",
       "      <td>...</td>\n",
       "    </tr>\n",
       "    <tr>\n",
       "      <th>4931</th>\n",
       "      <td>2024-03-22</td>\n",
       "      <td>150.240005</td>\n",
       "      <td>152.559998</td>\n",
       "      <td>150.089996</td>\n",
       "      <td>151.770004</td>\n",
       "      <td>151.770004</td>\n",
       "      <td>19226300</td>\n",
       "    </tr>\n",
       "    <tr>\n",
       "      <th>4932</th>\n",
       "      <td>2024-03-25</td>\n",
       "      <td>150.949997</td>\n",
       "      <td>151.455994</td>\n",
       "      <td>148.800003</td>\n",
       "      <td>151.149994</td>\n",
       "      <td>151.149994</td>\n",
       "      <td>15114700</td>\n",
       "    </tr>\n",
       "    <tr>\n",
       "      <th>4933</th>\n",
       "      <td>2024-03-26</td>\n",
       "      <td>151.240005</td>\n",
       "      <td>153.199997</td>\n",
       "      <td>151.029999</td>\n",
       "      <td>151.699997</td>\n",
       "      <td>151.699997</td>\n",
       "      <td>19312700</td>\n",
       "    </tr>\n",
       "    <tr>\n",
       "      <th>4934</th>\n",
       "      <td>2024-03-27</td>\n",
       "      <td>152.145004</td>\n",
       "      <td>152.690002</td>\n",
       "      <td>150.130005</td>\n",
       "      <td>151.940002</td>\n",
       "      <td>151.940002</td>\n",
       "      <td>16622000</td>\n",
       "    </tr>\n",
       "    <tr>\n",
       "      <th>4935</th>\n",
       "      <td>2024-03-28</td>\n",
       "      <td>152.000000</td>\n",
       "      <td>152.669998</td>\n",
       "      <td>151.330002</td>\n",
       "      <td>152.259995</td>\n",
       "      <td>152.259995</td>\n",
       "      <td>21105600</td>\n",
       "    </tr>\n",
       "  </tbody>\n",
       "</table>\n",
       "<p>4936 rows × 7 columns</p>\n",
       "</div>"
      ],
      "text/plain": [
       "            Date        Open        High         Low       Close   Adj Close  \\\n",
       "0     2004-08-19    2.490664    2.591785    2.390042    2.499133    2.499133   \n",
       "1     2004-08-20    2.515820    2.716817    2.503118    2.697639    2.697639   \n",
       "2     2004-08-23    2.758411    2.826406    2.716070    2.724787    2.724787   \n",
       "3     2004-08-24    2.770615    2.779581    2.579581    2.611960    2.611960   \n",
       "4     2004-08-25    2.614201    2.689918    2.587302    2.640104    2.640104   \n",
       "...          ...         ...         ...         ...         ...         ...   \n",
       "4931  2024-03-22  150.240005  152.559998  150.089996  151.770004  151.770004   \n",
       "4932  2024-03-25  150.949997  151.455994  148.800003  151.149994  151.149994   \n",
       "4933  2024-03-26  151.240005  153.199997  151.029999  151.699997  151.699997   \n",
       "4934  2024-03-27  152.145004  152.690002  150.130005  151.940002  151.940002   \n",
       "4935  2024-03-28  152.000000  152.669998  151.330002  152.259995  152.259995   \n",
       "\n",
       "         Volume  \n",
       "0     897427216  \n",
       "1     458857488  \n",
       "2     366857939  \n",
       "3     306396159  \n",
       "4     184645512  \n",
       "...         ...  \n",
       "4931   19226300  \n",
       "4932   15114700  \n",
       "4933   19312700  \n",
       "4934   16622000  \n",
       "4935   21105600  \n",
       "\n",
       "[4936 rows x 7 columns]"
      ]
     },
     "execution_count": 3,
     "metadata": {},
     "output_type": "execute_result"
    }
   ],
   "source": [
    "df"
   ]
  },
  {
   "cell_type": "code",
   "execution_count": 4,
   "id": "4b5470ae",
   "metadata": {},
   "outputs": [
    {
     "name": "stdout",
     "output_type": "stream",
     "text": [
      "<class 'pandas.core.frame.DataFrame'>\n",
      "RangeIndex: 4936 entries, 0 to 4935\n",
      "Data columns (total 7 columns):\n",
      " #   Column     Non-Null Count  Dtype  \n",
      "---  ------     --------------  -----  \n",
      " 0   Date       4936 non-null   object \n",
      " 1   Open       4936 non-null   float64\n",
      " 2   High       4936 non-null   float64\n",
      " 3   Low        4936 non-null   float64\n",
      " 4   Close      4936 non-null   float64\n",
      " 5   Adj Close  4936 non-null   float64\n",
      " 6   Volume     4936 non-null   int64  \n",
      "dtypes: float64(5), int64(1), object(1)\n",
      "memory usage: 270.1+ KB\n"
     ]
    }
   ],
   "source": [
    "df.info()"
   ]
  },
  {
   "cell_type": "code",
   "execution_count": 5,
   "id": "a86dd6f9",
   "metadata": {},
   "outputs": [
    {
     "data": {
      "text/html": [
       "<div>\n",
       "<style scoped>\n",
       "    .dataframe tbody tr th:only-of-type {\n",
       "        vertical-align: middle;\n",
       "    }\n",
       "\n",
       "    .dataframe tbody tr th {\n",
       "        vertical-align: top;\n",
       "    }\n",
       "\n",
       "    .dataframe thead th {\n",
       "        text-align: right;\n",
       "    }\n",
       "</style>\n",
       "<table border=\"1\" class=\"dataframe\">\n",
       "  <thead>\n",
       "    <tr style=\"text-align: right;\">\n",
       "      <th></th>\n",
       "      <th>Open</th>\n",
       "      <th>High</th>\n",
       "      <th>Low</th>\n",
       "      <th>Close</th>\n",
       "      <th>Adj Close</th>\n",
       "      <th>Volume</th>\n",
       "    </tr>\n",
       "  </thead>\n",
       "  <tbody>\n",
       "    <tr>\n",
       "      <th>count</th>\n",
       "      <td>4936.000000</td>\n",
       "      <td>4936.000000</td>\n",
       "      <td>4936.000000</td>\n",
       "      <td>4936.000000</td>\n",
       "      <td>4936.000000</td>\n",
       "      <td>4.936000e+03</td>\n",
       "    </tr>\n",
       "    <tr>\n",
       "      <th>mean</th>\n",
       "      <td>43.077417</td>\n",
       "      <td>43.532659</td>\n",
       "      <td>42.644088</td>\n",
       "      <td>43.096952</td>\n",
       "      <td>43.096952</td>\n",
       "      <td>1.174059e+08</td>\n",
       "    </tr>\n",
       "    <tr>\n",
       "      <th>std</th>\n",
       "      <td>40.320485</td>\n",
       "      <td>40.773849</td>\n",
       "      <td>39.917290</td>\n",
       "      <td>40.352092</td>\n",
       "      <td>40.352092</td>\n",
       "      <td>1.505185e+08</td>\n",
       "    </tr>\n",
       "    <tr>\n",
       "      <th>min</th>\n",
       "      <td>2.470490</td>\n",
       "      <td>2.534002</td>\n",
       "      <td>2.390042</td>\n",
       "      <td>2.490913</td>\n",
       "      <td>2.490913</td>\n",
       "      <td>1.584340e+05</td>\n",
       "    </tr>\n",
       "    <tr>\n",
       "      <th>25%</th>\n",
       "      <td>12.923497</td>\n",
       "      <td>13.048528</td>\n",
       "      <td>12.787071</td>\n",
       "      <td>12.922438</td>\n",
       "      <td>12.922438</td>\n",
       "      <td>2.803600e+07</td>\n",
       "    </tr>\n",
       "    <tr>\n",
       "      <th>50%</th>\n",
       "      <td>26.795184</td>\n",
       "      <td>26.966079</td>\n",
       "      <td>26.570000</td>\n",
       "      <td>26.763133</td>\n",
       "      <td>26.763133</td>\n",
       "      <td>5.875273e+07</td>\n",
       "    </tr>\n",
       "    <tr>\n",
       "      <th>75%</th>\n",
       "      <td>58.855251</td>\n",
       "      <td>59.352863</td>\n",
       "      <td>58.164000</td>\n",
       "      <td>58.788999</td>\n",
       "      <td>58.788999</td>\n",
       "      <td>1.453859e+08</td>\n",
       "    </tr>\n",
       "    <tr>\n",
       "      <th>max</th>\n",
       "      <td>154.009995</td>\n",
       "      <td>155.199997</td>\n",
       "      <td>152.919998</td>\n",
       "      <td>154.839996</td>\n",
       "      <td>154.839996</td>\n",
       "      <td>1.650833e+09</td>\n",
       "    </tr>\n",
       "  </tbody>\n",
       "</table>\n",
       "</div>"
      ],
      "text/plain": [
       "              Open         High          Low        Close    Adj Close  \\\n",
       "count  4936.000000  4936.000000  4936.000000  4936.000000  4936.000000   \n",
       "mean     43.077417    43.532659    42.644088    43.096952    43.096952   \n",
       "std      40.320485    40.773849    39.917290    40.352092    40.352092   \n",
       "min       2.470490     2.534002     2.390042     2.490913     2.490913   \n",
       "25%      12.923497    13.048528    12.787071    12.922438    12.922438   \n",
       "50%      26.795184    26.966079    26.570000    26.763133    26.763133   \n",
       "75%      58.855251    59.352863    58.164000    58.788999    58.788999   \n",
       "max     154.009995   155.199997   152.919998   154.839996   154.839996   \n",
       "\n",
       "             Volume  \n",
       "count  4.936000e+03  \n",
       "mean   1.174059e+08  \n",
       "std    1.505185e+08  \n",
       "min    1.584340e+05  \n",
       "25%    2.803600e+07  \n",
       "50%    5.875273e+07  \n",
       "75%    1.453859e+08  \n",
       "max    1.650833e+09  "
      ]
     },
     "execution_count": 5,
     "metadata": {},
     "output_type": "execute_result"
    }
   ],
   "source": [
    "df.describe()"
   ]
  },
  {
   "cell_type": "code",
   "execution_count": 6,
   "id": "7350f62b",
   "metadata": {},
   "outputs": [
    {
     "data": {
      "text/plain": [
       "Index(['Date', 'Open', 'High', 'Low', 'Close', 'Adj Close', 'Volume'], dtype='object')"
      ]
     },
     "execution_count": 6,
     "metadata": {},
     "output_type": "execute_result"
    }
   ],
   "source": [
    "df.columns"
   ]
  },
  {
   "cell_type": "code",
   "execution_count": 7,
   "id": "662a28e1",
   "metadata": {},
   "outputs": [
    {
     "data": {
      "text/plain": [
       "Date         0\n",
       "Open         0\n",
       "High         0\n",
       "Low          0\n",
       "Close        0\n",
       "Adj Close    0\n",
       "Volume       0\n",
       "dtype: int64"
      ]
     },
     "execution_count": 7,
     "metadata": {},
     "output_type": "execute_result"
    }
   ],
   "source": [
    "df.isna().sum()"
   ]
  },
  {
   "cell_type": "markdown",
   "id": "474f6f74",
   "metadata": {},
   "source": [
    "# Questions to ask:"
   ]
  },
  {
   "cell_type": "markdown",
   "id": "a6eef0f0",
   "metadata": {},
   "source": [
    "1. On which date did Google observe its highest stock value?\n",
    "2. On which date did Google observe its lowest stock value?\n",
    "3. On which date did Google achieve its highest closing stock value?\n",
    "4. On which date did Google achieve its lowest closing stock value?\n",
    "5. what is the difference between the opening and closing stock values and how many times was the closing value is observed to be higher than the opening value?\n",
    "6. what is the relationship between trading volume and price movements?"
   ]
  },
  {
   "cell_type": "markdown",
   "id": "b7a7a68e",
   "metadata": {},
   "source": [
    "### On which date did Google observe its highest stock value?"
   ]
  },
  {
   "cell_type": "code",
   "execution_count": 8,
   "id": "1c4735a2",
   "metadata": {},
   "outputs": [],
   "source": [
    "Date_with_high_stock_value = df.loc[df['High'].idxmax()]['Date']"
   ]
  },
  {
   "cell_type": "code",
   "execution_count": 9,
   "id": "ed5e507e",
   "metadata": {},
   "outputs": [
    {
     "data": {
      "text/plain": [
       "'2024-01-29'"
      ]
     },
     "execution_count": 9,
     "metadata": {},
     "output_type": "execute_result"
    }
   ],
   "source": [
    "Date_with_high_stock_value"
   ]
  },
  {
   "cell_type": "code",
   "execution_count": 10,
   "id": "d838ed36",
   "metadata": {},
   "outputs": [],
   "source": [
    "highest_value = df.loc[df['Date'] == Date_with_high_stock_value]['High'].values[0]"
   ]
  },
  {
   "cell_type": "code",
   "execution_count": 11,
   "id": "17edc963",
   "metadata": {},
   "outputs": [
    {
     "data": {
      "text/plain": [
       "155.1999969482422"
      ]
     },
     "execution_count": 11,
     "metadata": {},
     "output_type": "execute_result"
    }
   ],
   "source": [
    "highest_value"
   ]
  },
  {
   "cell_type": "code",
   "execution_count": 12,
   "id": "71403e8c",
   "metadata": {},
   "outputs": [
    {
     "name": "stdout",
     "output_type": "stream",
     "text": [
      "Question 1: On which date did Google observe its highest stock value and what is the stock value?\n",
      "Answer:  ['2024-01-29', 155.1999969482422]\n"
     ]
    }
   ],
   "source": [
    "print(\"Question 1: On which date did Google observe its highest stock value and what is the stock value?\")\n",
    "print(\"Answer: \",[Date_with_high_stock_value,highest_value])"
   ]
  },
  {
   "cell_type": "markdown",
   "id": "dfa06a35",
   "metadata": {},
   "source": [
    "### On which date did Google observe its lowest stock value?"
   ]
  },
  {
   "cell_type": "code",
   "execution_count": 13,
   "id": "e436c58c",
   "metadata": {},
   "outputs": [],
   "source": [
    "Date_with_low_stock_value = df.loc[df['Low'].idxmin()]['Date']"
   ]
  },
  {
   "cell_type": "code",
   "execution_count": 14,
   "id": "6bab04e1",
   "metadata": {},
   "outputs": [
    {
     "data": {
      "text/plain": [
       "'2004-08-19'"
      ]
     },
     "execution_count": 14,
     "metadata": {},
     "output_type": "execute_result"
    }
   ],
   "source": [
    "Date_with_low_stock_value"
   ]
  },
  {
   "cell_type": "code",
   "execution_count": 15,
   "id": "b4cef11e",
   "metadata": {},
   "outputs": [],
   "source": [
    "lowest_value = df.loc[df['Date'] == Date_with_low_stock_value]['Low'].values[0]"
   ]
  },
  {
   "cell_type": "code",
   "execution_count": 16,
   "id": "783665c4",
   "metadata": {},
   "outputs": [
    {
     "data": {
      "text/plain": [
       "2.3900420665740967"
      ]
     },
     "execution_count": 16,
     "metadata": {},
     "output_type": "execute_result"
    }
   ],
   "source": [
    "lowest_value"
   ]
  },
  {
   "cell_type": "code",
   "execution_count": 17,
   "id": "cb318f36",
   "metadata": {},
   "outputs": [
    {
     "name": "stdout",
     "output_type": "stream",
     "text": [
      "Question 2: On which date did Google observe its lowest stock value and what is the stock value?\n",
      "Answer:  ['2004-08-19', 2.3900420665740967]\n"
     ]
    }
   ],
   "source": [
    "print(\"Question 2: On which date did Google observe its lowest stock value and what is the stock value?\")\n",
    "print(\"Answer: \",[Date_with_low_stock_value,lowest_value])"
   ]
  },
  {
   "cell_type": "markdown",
   "id": "11d9d68a",
   "metadata": {},
   "source": [
    "### On which date did Google achieve its highest closing stock value?"
   ]
  },
  {
   "cell_type": "code",
   "execution_count": 18,
   "id": "7f9bea9e",
   "metadata": {},
   "outputs": [],
   "source": [
    "date_with_high_close_value = df.loc[df['Close'].idxmax()]['Date']"
   ]
  },
  {
   "cell_type": "code",
   "execution_count": 19,
   "id": "c00445fe",
   "metadata": {},
   "outputs": [
    {
     "data": {
      "text/plain": [
       "'2024-01-29'"
      ]
     },
     "execution_count": 19,
     "metadata": {},
     "output_type": "execute_result"
    }
   ],
   "source": [
    "date_with_high_close_value"
   ]
  },
  {
   "cell_type": "code",
   "execution_count": 20,
   "id": "e16736a6",
   "metadata": {},
   "outputs": [],
   "source": [
    "high_close_value = df['Close'].max()"
   ]
  },
  {
   "cell_type": "code",
   "execution_count": 21,
   "id": "ce934c7e",
   "metadata": {},
   "outputs": [
    {
     "data": {
      "text/plain": [
       "154.83999633789062"
      ]
     },
     "execution_count": 21,
     "metadata": {},
     "output_type": "execute_result"
    }
   ],
   "source": [
    "high_close_value"
   ]
  },
  {
   "cell_type": "code",
   "execution_count": 22,
   "id": "83a5cda1",
   "metadata": {},
   "outputs": [
    {
     "name": "stdout",
     "output_type": "stream",
     "text": [
      "Question 3: On which date did Google achieve its highest closing stock value and what is the stock value?\n",
      "Answer:  ['2024-01-29', 154.83999633789062]\n"
     ]
    }
   ],
   "source": [
    "print(\"Question 3: On which date did Google achieve its highest closing stock value and what is the stock value?\")\n",
    "print(\"Answer: \",[date_with_high_close_value ,high_close_value])"
   ]
  },
  {
   "cell_type": "markdown",
   "id": "6fcea3cb",
   "metadata": {},
   "source": [
    "### On which date did Google achieve its lowest closing stock value?"
   ]
  },
  {
   "cell_type": "code",
   "execution_count": 23,
   "id": "fb909c0f",
   "metadata": {},
   "outputs": [],
   "source": [
    "date_with_lowest_close_value = df.loc[df['Close'].idxmin()]['Date']"
   ]
  },
  {
   "cell_type": "code",
   "execution_count": 24,
   "id": "cfe8c25e",
   "metadata": {},
   "outputs": [
    {
     "data": {
      "text/plain": [
       "'2004-09-03'"
      ]
     },
     "execution_count": 24,
     "metadata": {},
     "output_type": "execute_result"
    }
   ],
   "source": [
    "date_with_lowest_close_value"
   ]
  },
  {
   "cell_type": "code",
   "execution_count": 25,
   "id": "129ec9d4",
   "metadata": {},
   "outputs": [],
   "source": [
    "low_close_value = df['Close'].min()"
   ]
  },
  {
   "cell_type": "code",
   "execution_count": 26,
   "id": "655e4b5e",
   "metadata": {},
   "outputs": [
    {
     "data": {
      "text/plain": [
       "2.490912914276123"
      ]
     },
     "execution_count": 26,
     "metadata": {},
     "output_type": "execute_result"
    }
   ],
   "source": [
    "low_close_value"
   ]
  },
  {
   "cell_type": "code",
   "execution_count": 27,
   "id": "5fa65e32",
   "metadata": {},
   "outputs": [
    {
     "name": "stdout",
     "output_type": "stream",
     "text": [
      "Question 4: On which date did Google achieve its highest closing stock value and what is the stock value?\n",
      "Answer:  ['2004-09-03', 2.490912914276123]\n"
     ]
    }
   ],
   "source": [
    "print(\"Question 4: On which date did Google achieve its highest closing stock value and what is the stock value?\")\n",
    "print(\"Answer: \",[date_with_lowest_close_value ,low_close_value])"
   ]
  },
  {
   "cell_type": "markdown",
   "id": "2c3adc1f",
   "metadata": {},
   "source": [
    "### what is the difference between the opening and closing stock values and how many times was the closing value is observed to be higher than the opening value?"
   ]
  },
  {
   "cell_type": "code",
   "execution_count": 28,
   "id": "6a3a8262",
   "metadata": {},
   "outputs": [],
   "source": [
    "stock_diff = df['Close'] - df['Open']"
   ]
  },
  {
   "cell_type": "code",
   "execution_count": 29,
   "id": "93a95d70",
   "metadata": {},
   "outputs": [
    {
     "data": {
      "text/plain": [
       "0       0.008469\n",
       "1       0.181819\n",
       "2      -0.033624\n",
       "3      -0.158655\n",
       "4       0.025903\n",
       "          ...   \n",
       "4931    1.529999\n",
       "4932    0.199997\n",
       "4933    0.459991\n",
       "4934   -0.205002\n",
       "4935    0.259995\n",
       "Length: 4936, dtype: float64"
      ]
     },
     "execution_count": 29,
     "metadata": {},
     "output_type": "execute_result"
    }
   ],
   "source": [
    "stock_diff"
   ]
  },
  {
   "cell_type": "code",
   "execution_count": 30,
   "id": "0b0a0886",
   "metadata": {},
   "outputs": [],
   "source": [
    "diff_count = 0\n",
    "for i in stock_diff:\n",
    "    if i > 0:\n",
    "        diff_count = diff_count + 1        "
   ]
  },
  {
   "cell_type": "code",
   "execution_count": 31,
   "id": "40378845",
   "metadata": {},
   "outputs": [
    {
     "data": {
      "text/plain": [
       "2489"
      ]
     },
     "execution_count": 31,
     "metadata": {},
     "output_type": "execute_result"
    }
   ],
   "source": [
    "diff_count "
   ]
  },
  {
   "cell_type": "code",
   "execution_count": 32,
   "id": "9ee9bebe",
   "metadata": {},
   "outputs": [
    {
     "name": "stdout",
     "output_type": "stream",
     "text": [
      "Question 5: how many times was the closing value is observed to be higher than the opening value?\n",
      "Answer:  2489\n"
     ]
    }
   ],
   "source": [
    "print(\"Question 5: how many times was the closing value is observed to be higher than the opening value?\")\n",
    "print(\"Answer: \",diff_count)"
   ]
  },
  {
   "cell_type": "markdown",
   "id": "64d30afd",
   "metadata": {},
   "source": [
    "### what is the relationship between trading volume and price movements?"
   ]
  },
  {
   "cell_type": "code",
   "execution_count": null,
   "id": "5b5ebbf3",
   "metadata": {},
   "outputs": [],
   "source": []
  },
  {
   "cell_type": "code",
   "execution_count": 33,
   "id": "f564ee98",
   "metadata": {},
   "outputs": [
    {
     "data": {
      "image/png": "[encoded data removed]",
      "text/plain": [
       "<Figure size 1000x600 with 2 Axes>"
      ]
     },
     "metadata": {},
     "output_type": "display_data"
    }
   ],
   "source": [
    "# Plotting Line Chart with Volume Overlay\n",
    "plt.figure(figsize=(10, 6))\n",
    "plt.plot(df.index, df['Close'], color='blue', label='Close Price')\n",
    "plt.ylabel('Price')\n",
    "plt.xlabel('Date')\n",
    "plt.twinx()\n",
    "plt.bar(df.index, df['Volume'], color='green', alpha=0.5, width=1, label='Volume')\n",
    "plt.ylabel('Volume')\n",
    "plt.title('Line Chart with Volume Overlay')\n",
    "plt.legend(loc='upper left')\n",
    "plt.show()"
   ]
  },
  {
   "cell_type": "markdown",
   "id": "e9e45a44",
   "metadata": {},
   "source": [
    "This chart displays the closing price (blue line) along with the volume of shares traded (green bars) over time. \n",
    "The x-axis represents the date, while the y-axis on the left represents the price and \n",
    "the y-axis on the right represents the volume.\n",
    "\n",
    "From the chart, we can see that the close price has fluctuated over time. \n",
    "There is no clear upward or downward trend. We can also see that the volume of shares traded has also fluctuated over time. \n",
    "There does not appear to be a consistent relationship between the close price and the volume of shares traded.\n",
    "\n",
    "Here are some additional insights you can glean from the chart:\n",
    "\n",
    "* The highest closing price was around $160.\n",
    "\n",
    "* The lowest closing price was around $80.\n",
    "* The highest volume of shares traded was around 5000.\n",
    "* The lowest volume of shares traded was around 1000.\n",
    "\n"
   ]
  },
  {
   "cell_type": "code",
   "execution_count": null,
   "id": "5b74199e",
   "metadata": {},
   "outputs": [],
   "source": []
  }
 ],
 "metadata": {
  "kernelspec": {
   "display_name": "Python 3 (ipykernel)",
   "language": "python",
   "name": "python3"
  },
  "language_info": {
   "codemirror_mode": {
    "name": "ipython",
    "version": 3
   },
   "file_extension": ".py",
   "mimetype": "text/x-python",
   "name": "python",
   "nbconvert_exporter": "python",
   "pygments_lexer": "ipython3",
   "version": "3.9.13"
  }
 },
 "nbformat": 4,
 "nbformat_minor": 5
}
